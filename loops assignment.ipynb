{
 "cells": [
  {
   "cell_type": "markdown",
   "id": "5bae7e4f",
   "metadata": {},
   "source": [
    "### Q.1: wap whether tha given list of no. is lucky,a lucky list contains at least one number is divided by 7"
   ]
  },
  {
   "cell_type": "code",
   "execution_count": 58,
   "id": "2eb174be",
   "metadata": {},
   "outputs": [
    {
     "name": "stdout",
     "output_type": "stream",
     "text": [
      "tha given number is lucky\n"
     ]
    }
   ],
   "source": [
    "l=[12,13,50,7,21]\n",
    "for i in l:\n",
    "    if (i%7==0):\n",
    "        print(\"tha given number is lucky\")\n",
    "        break\n",
    "else:\n",
    "        print(\"tha given number is not lucky\")"
   ]
  },
  {
   "cell_type": "markdown",
   "id": "7ed68ea4",
   "metadata": {},
   "source": [
    "### Q.2: wap to sum of all numbers from 1 to given number."
   ]
  },
  {
   "cell_type": "code",
   "execution_count": 17,
   "id": "cd0749af",
   "metadata": {},
   "outputs": [
    {
     "name": "stdout",
     "output_type": "stream",
     "text": [
      "enter tha number5\n",
      "15\n"
     ]
    }
   ],
   "source": [
    "num=int(input(\"enter tha number\"))\n",
    "i=1\n",
    "sum=0\n",
    "while(i<=num):\n",
    "    sum=sum+i\n",
    "    i=i+1\n",
    "print(sum)    "
   ]
  },
  {
   "cell_type": "markdown",
   "id": "179fa61b",
   "metadata": {},
   "source": [
    "### Q.3: wap to check whether tha given number is armstrong or not."
   ]
  },
  {
   "cell_type": "code",
   "execution_count": 1,
   "id": "2b40a118",
   "metadata": {},
   "outputs": [
    {
     "name": "stdout",
     "output_type": "stream",
     "text": [
      "enter tha number125\n",
      "134\n",
      "not armstrong\n"
     ]
    }
   ],
   "source": [
    "x=int(input(\"enter tha number\"))\n",
    "sum=0\n",
    "temp=x\n",
    "while(x!=0):\n",
    "    r=x%10\n",
    "    x=x//10\n",
    "    sum=sum+r*r*r\n",
    "print(sum) \n",
    "if temp==sum:\n",
    "   print(\"armstrong number\")  \n",
    "else:\n",
    "   print(\"not armstrong\") "
   ]
  },
  {
   "cell_type": "markdown",
   "id": "73754081",
   "metadata": {},
   "source": [
    "### 4: wap to print tha following using while loop."
   ]
  },
  {
   "cell_type": "markdown",
   "id": "8e300c31",
   "metadata": {},
   "source": [
    "### first 10 even number"
   ]
  },
  {
   "cell_type": "code",
   "execution_count": 25,
   "id": "7151c0ec",
   "metadata": {},
   "outputs": [
    {
     "name": "stdout",
     "output_type": "stream",
     "text": [
      "2\n",
      "4\n",
      "6\n",
      "8\n",
      "10\n",
      "12\n",
      "14\n",
      "16\n",
      "18\n",
      "20\n"
     ]
    }
   ],
   "source": [
    "x=0\n",
    "while x<20:\n",
    "    x+=2\n",
    "    print(x)"
   ]
  },
  {
   "cell_type": "markdown",
   "id": "0aedc175",
   "metadata": {},
   "source": [
    "### first 10 odd number"
   ]
  },
  {
   "cell_type": "code",
   "execution_count": 18,
   "id": "74f90716",
   "metadata": {},
   "outputs": [
    {
     "name": "stdout",
     "output_type": "stream",
     "text": [
      "1\n",
      "3\n",
      "5\n",
      "7\n",
      "9\n",
      "11\n",
      "13\n",
      "15\n",
      "17\n",
      "19\n"
     ]
    }
   ],
   "source": [
    "x=1\n",
    "while x<=20:\n",
    "    print(x)\n",
    "    x+=2"
   ]
  },
  {
   "cell_type": "markdown",
   "id": "93767a66",
   "metadata": {},
   "source": [
    "### first 10 natural number"
   ]
  },
  {
   "cell_type": "code",
   "execution_count": 37,
   "id": "6a174d61",
   "metadata": {},
   "outputs": [
    {
     "name": "stdout",
     "output_type": "stream",
     "text": [
      "1\n",
      "2\n",
      "3\n",
      "4\n",
      "5\n",
      "6\n",
      "7\n",
      "8\n",
      "9\n",
      "10\n"
     ]
    }
   ],
   "source": [
    "x=0\n",
    "while x<10:\n",
    "    x+=1\n",
    "    print(x)"
   ]
  },
  {
   "cell_type": "markdown",
   "id": "59fae0cd",
   "metadata": {},
   "source": [
    "### first 10 whole number"
   ]
  },
  {
   "cell_type": "code",
   "execution_count": 44,
   "id": "c07281b2",
   "metadata": {},
   "outputs": [
    {
     "name": "stdout",
     "output_type": "stream",
     "text": [
      "0\n",
      "1\n",
      "2\n",
      "3\n",
      "4\n",
      "5\n",
      "6\n",
      "7\n",
      "8\n",
      "9\n",
      "10\n"
     ]
    }
   ],
   "source": [
    "x=-1\n",
    "while x<10:\n",
    "   x=x+1\n",
    "   print(x)"
   ]
  },
  {
   "cell_type": "markdown",
   "id": "65972d15",
   "metadata": {},
   "source": [
    "### Q.5: wap to print first 10 integer and their square using while loop 11 24  39  and so on\n"
   ]
  },
  {
   "cell_type": "code",
   "execution_count": 3,
   "id": "5b50aa99",
   "metadata": {},
   "outputs": [
    {
     "name": "stdout",
     "output_type": "stream",
     "text": [
      "1 = 1\n",
      "2 = 4\n",
      "3 = 9\n",
      "4 = 16\n",
      "5 = 25\n",
      "6 = 36\n",
      "7 = 49\n",
      "8 = 64\n",
      "9 = 81\n",
      "10 = 100\n"
     ]
    }
   ],
   "source": [
    "x=0\n",
    "while x<10:\n",
    "    x+=1\n",
    "    s=x*x\n",
    "    print(x, \"=\",s)"
   ]
  },
  {
   "cell_type": "markdown",
   "id": "db8524fa",
   "metadata": {},
   "source": [
    "### Q.6: wap for loop statement to print tha following series  10 20 30  to 300"
   ]
  },
  {
   "cell_type": "code",
   "execution_count": 5,
   "id": "89593557",
   "metadata": {},
   "outputs": [
    {
     "name": "stdout",
     "output_type": "stream",
     "text": [
      "10\n",
      "20\n",
      "30\n",
      "40\n",
      "50\n",
      "60\n",
      "70\n",
      "80\n",
      "90\n",
      "100\n",
      "110\n",
      "120\n",
      "130\n",
      "140\n",
      "150\n",
      "160\n",
      "170\n",
      "180\n",
      "190\n",
      "200\n",
      "210\n",
      "220\n",
      "230\n",
      "240\n",
      "250\n",
      "260\n",
      "270\n",
      "280\n",
      "290\n",
      "300\n"
     ]
    }
   ],
   "source": [
    "x=10\n",
    "for i in range(10,40):\n",
    "        print(x)\n",
    "        x+=10"
   ]
  },
  {
   "cell_type": "markdown",
   "id": "1bf3b8db",
   "metadata": {},
   "source": [
    " ### Q.7: write a while loop statement to print tha following series 105 98  91 to 7"
   ]
  },
  {
   "cell_type": "code",
   "execution_count": 6,
   "id": "b3bc8eee",
   "metadata": {},
   "outputs": [
    {
     "name": "stdout",
     "output_type": "stream",
     "text": [
      "105\n",
      "98\n",
      "91\n",
      "84\n",
      "77\n",
      "70\n",
      "63\n",
      "56\n",
      "49\n",
      "42\n",
      "35\n",
      "28\n",
      "21\n",
      "14\n",
      "7\n"
     ]
    }
   ],
   "source": [
    "x=105\n",
    "while x>=7:\n",
    "    print(x)\n",
    "    x-=7"
   ]
  },
  {
   "cell_type": "markdown",
   "id": "293056d7",
   "metadata": {},
   "source": [
    "### Q.8: wap to enter tha numbers till tha user wants and at tha end it should display tha sum of all tha numbers entered."
   ]
  },
  {
   "cell_type": "code",
   "execution_count": 4,
   "id": "c0f685d2",
   "metadata": {},
   "outputs": [
    {
     "name": "stdout",
     "output_type": "stream",
     "text": [
      "enter tha number5\n",
      "you wish to enter tha number more press 1 :yes and 0 for no1\n",
      "enter tha number2\n",
      "you wish to enter tha number more press 1 :yes and 0 for nono\n",
      "invalid choise\n",
      "7\n"
     ]
    }
   ],
   "source": [
    "sum=0\n",
    "while(1):\n",
    "   num=int(input(\"enter tha number\"))\n",
    "   sum=sum+num\n",
    "   choice=input(\"you wish to enter tha number more press 1 :yes and 0 for no\")        \n",
    "   if choice==\"1\":\n",
    "         continue\n",
    "   elif choice==\"0\":\n",
    "         break\n",
    "   else:\n",
    "         print(\"invalid choise\")\n",
    "         break\n",
    "print(sum)        "
   ]
  },
  {
   "cell_type": "markdown",
   "id": "d4d1a6e2",
   "metadata": {},
   "source": [
    "### Q.9: wap to enter tha numbers till tha user enter zero and at tha end it should display tha count and sum of positive or nagetive numbers entered."
   ]
  },
  {
   "cell_type": "code",
   "execution_count": 23,
   "id": "604156f0",
   "metadata": {},
   "outputs": [
    {
     "name": "stdout",
     "output_type": "stream",
     "text": [
      "enter a number1\n",
      "enter a number4\n",
      "enter a number6\n",
      "enter a number7\n",
      "enter a number0\n",
      "[1, 4, 6, 7, 0]\n",
      "0\n",
      "positive number in tha list are : 5\n",
      "negative number in tha list are : 0\n"
     ]
    }
   ],
   "source": [
    "list=[]\n",
    "sum=0\n",
    "while(1):\n",
    "    num=int(input(\"enter a number\"))\n",
    "    list.append(num)\n",
    "    if num!=0:\n",
    "        sum=sum+sum\n",
    "    else:\n",
    "        break\n",
    "print(list) \n",
    "print(sum)\n",
    "pos=0\n",
    "neg=0\n",
    "for i in list:\n",
    "    if num>=0:\n",
    "        pos+=1\n",
    "    else:\n",
    "        neg+=1\n",
    "print(\"positive number in tha list are :\",pos )\n",
    "print(\"negative number in tha list are :\",neg )\n",
    "        "
   ]
  },
  {
   "cell_type": "markdown",
   "id": "9ab91ee1",
   "metadata": {},
   "source": [
    "### Q.10: wap to display all tha number which are divisble by 13 but not by 3 between 100 and 500 (exclusive both numbers)"
   ]
  },
  {
   "cell_type": "code",
   "execution_count": 8,
   "id": "9d3493f9",
   "metadata": {},
   "outputs": [
    {
     "name": "stdout",
     "output_type": "stream",
     "text": [
      "104\n",
      "130\n",
      "143\n",
      "169\n",
      "182\n",
      "208\n",
      "221\n",
      "247\n",
      "260\n",
      "286\n",
      "299\n",
      "325\n",
      "338\n",
      "364\n",
      "377\n",
      "403\n",
      "416\n",
      "442\n",
      "455\n",
      "481\n",
      "494\n"
     ]
    }
   ],
   "source": [
    "for i in range(100,500):\n",
    "    if i%13==0:\n",
    "        if i%3!=0:\n",
    "            print(i)"
   ]
  },
  {
   "cell_type": "markdown",
   "id": "8b824618",
   "metadata": {},
   "source": [
    "### Q.11: wap to accept 10 number from tha user and display tha largest and smallest number."
   ]
  },
  {
   "cell_type": "code",
   "execution_count": 10,
   "id": "2bc18341",
   "metadata": {},
   "outputs": [
    {
     "name": "stdout",
     "output_type": "stream",
     "text": [
      "enter a number1\n",
      "enter a number3\n",
      "enter a number2\n",
      "enter a number4\n",
      "enter a number6\n",
      "enter a number8\n",
      "enter a number7\n",
      "enter a number9\n",
      "enter a number5\n",
      "enter a number12\n",
      "\n",
      "largest number is  9\n",
      "smallest number is  1\n"
     ]
    }
   ],
   "source": [
    "inputlist=[]\n",
    "for i in range(10):\n",
    "    inputlist.append(input(\"enter a number\"))\n",
    "max=inputlist[0]  \n",
    "min=inputlist[0]\n",
    "for i in inputlist:\n",
    "    if i>max:\n",
    "        max=i\n",
    "    elif i<max:\n",
    "        min=1\n",
    "    else:\n",
    "        print()\n",
    "print(\"largest number is \",max)\n",
    "print(\"smallest number is \",min)"
   ]
  },
  {
   "cell_type": "markdown",
   "id": "3ad87658",
   "metadata": {},
   "source": [
    "### Q.12: wap to print tha following series till n term, 1 4 9 16 25 36  to n terms."
   ]
  },
  {
   "cell_type": "code",
   "execution_count": 22,
   "id": "c2814550",
   "metadata": {},
   "outputs": [
    {
     "name": "stdout",
     "output_type": "stream",
     "text": [
      "1\n",
      "4\n",
      "9\n",
      "16\n",
      "25\n",
      "36\n",
      "49\n",
      "64\n",
      "81\n"
     ]
    }
   ],
   "source": [
    "n=1\n",
    "for i in range(1,10):\n",
    "    j=i*i\n",
    "    print(j)\n",
    "    "
   ]
  },
  {
   "cell_type": "markdown",
   "id": "bdb5eb66",
   "metadata": {},
   "source": [
    "### 13:  wap to take username and password form user and save it and then allow tha user to sign if he/she is authenticate user then sign happens also no. and give 5 attempts after 5 attempts if he does not give right crenditials. then display tried next time."
   ]
  },
  {
   "cell_type": "code",
   "execution_count": 3,
   "id": "f1fe1c99",
   "metadata": {},
   "outputs": [
    {
     "name": "stdout",
     "output_type": "stream",
     "text": [
      "enter your usernamehema dixitt\n",
      "enter your passwordhemaa@08\n",
      "\n",
      "to sign in please enter your username and password \n",
      "enter tha usernamehemaa dixitt\n",
      "enter tha passwordhemaa@08\n",
      "please try again\n",
      "enter tha usernamehema dixitt\n",
      "enter tha passwordhemaa@08\n",
      "access granted\n"
     ]
    }
   ],
   "source": [
    "username=input(\"enter your username\")\n",
    "password=input(\"enter your password\")\n",
    "print()\n",
    "print(\"to sign in please enter your username and password \")\n",
    "count=0\n",
    "while count<5:\n",
    "    x=input(\"enter tha username\")\n",
    "    y=input(\"enter tha password\")\n",
    "    if x==username and y==password:\n",
    "        print(\"access granted\")\n",
    "        break\n",
    "    else:\n",
    "        print(\"please try again\")\n",
    "        count+=1\n",
    "        if count==5:\n",
    "            print(\"you have entered wrong input too many times\")"
   ]
  },
  {
   "cell_type": "markdown",
   "id": "e69f4c1d",
   "metadata": {},
   "source": [
    "### 14: wap which wil find all such numbers which are divisble by 7 but are not a multiple of 5, between 2000 and 3200 (both included). tha numbers obtained should be printed in a comma separated on a single line."
   ]
  },
  {
   "cell_type": "code",
   "execution_count": 11,
   "id": "985be9c3",
   "metadata": {},
   "outputs": [
    {
     "name": "stdout",
     "output_type": "stream",
     "text": [
      "2002,2009,2016,2023,2030,2037,2044,2051,2058,2065,2072,2079,2086,2093,2100,2107,2114,2121,2128,2135,2142,2149,2156,2163,2170,2177,2184,2191,2198,2205,2212,2219,2226,2233,2240,2247,2254,2261,2268,2275,2282,2289,2296,2303,2310,2317,2324,2331,2338,2345,2352,2359,2366,2373,2380,2387,2394,2401,2408,2415,2422,2429,2436,2443,2450,2457,2464,2471,2478,2485,2492,2499,2506,2513,2520,2527,2534,2541,2548,2555,2562,2569,2576,2583,2590,2597,2604,2611,2618,2625,2632,2639,2646,2653,2660,2667,2674,2681,2688,2695,2702,2709,2716,2723,2730,2737,2744,2751,2758,2765,2772,2779,2786,2793,2800,2807,2814,2821,2828,2835,2842,2849,2856,2863,2870,2877,2884,2891,2898,2905,2912,2919,2926,2933,2940,2947,2954,2961,2968,2975,2982,2989,2996,3003,3010,3017,3024,3031,3038,3045,3052,3059,3066,3073,3080,3087,3094,3101,3108,3115,3122,3129,3136,3143,3150,3157,3164,3171,3178,3185,3192,3199,"
     ]
    }
   ],
   "source": [
    "lower=2000\n",
    "upper=3200\n",
    "for i in range(lower,upper+1):\n",
    "    if i%7==0:\n",
    "        if i*5!=0:\n",
    "            print(i,end=\",\")"
   ]
  },
  {
   "cell_type": "markdown",
   "id": "309fa154",
   "metadata": {},
   "source": [
    "### Q15:wap which accepts  a squence of comma separated 4 digit binary number as its input and tn check whether they are divisble by 5 or not. Tha number that are divisble by 5 are to be printed in a comma seprated sequence."
   ]
  },
  {
   "cell_type": "code",
   "execution_count": 14,
   "id": "312b5fec",
   "metadata": {},
   "outputs": [
    {
     "name": "stdout",
     "output_type": "stream",
     "text": [
      "1000,1010,"
     ]
    }
   ],
   "source": [
    "l1 =[1000,1011,1010,1001]\n",
    "for i in l1:\n",
    "    if i%5 == 0:\n",
    "        print(i,end=\",\")\n",
    "     \n",
    "\n"
   ]
  },
  {
   "cell_type": "markdown",
   "id": "6c31ddbe",
   "metadata": {},
   "source": [
    "### 16: wap which will find all such numbers between 1000 and 3000(both included) such that each digit of tha number is an even number."
   ]
  },
  {
   "cell_type": "code",
   "execution_count": 4,
   "id": "869526fb",
   "metadata": {},
   "outputs": [
    {
     "name": "stdout",
     "output_type": "stream",
     "text": [
      "2000\n",
      "2002\n",
      "2004\n",
      "2006\n",
      "2008\n",
      "2020\n",
      "2022\n",
      "2024\n",
      "2026\n",
      "2028\n",
      "2040\n",
      "2042\n",
      "2044\n",
      "2046\n",
      "2048\n",
      "2060\n",
      "2062\n",
      "2064\n",
      "2066\n",
      "2068\n",
      "2080\n",
      "2082\n",
      "2084\n",
      "2086\n",
      "2088\n",
      "2200\n",
      "2202\n",
      "2204\n",
      "2206\n",
      "2208\n",
      "2220\n",
      "2222\n",
      "2224\n",
      "2226\n",
      "2228\n",
      "2240\n",
      "2242\n",
      "2244\n",
      "2246\n",
      "2248\n",
      "2260\n",
      "2262\n",
      "2264\n",
      "2266\n",
      "2268\n",
      "2280\n",
      "2282\n",
      "2284\n",
      "2286\n",
      "2288\n",
      "2400\n",
      "2402\n",
      "2404\n",
      "2406\n",
      "2408\n",
      "2420\n",
      "2422\n",
      "2424\n",
      "2426\n",
      "2428\n",
      "2440\n",
      "2442\n",
      "2444\n",
      "2446\n",
      "2448\n",
      "2460\n",
      "2462\n",
      "2464\n",
      "2466\n",
      "2468\n",
      "2480\n",
      "2482\n",
      "2484\n",
      "2486\n",
      "2488\n",
      "2600\n",
      "2602\n",
      "2604\n",
      "2606\n",
      "2608\n",
      "2620\n",
      "2622\n",
      "2624\n",
      "2626\n",
      "2628\n",
      "2640\n",
      "2642\n",
      "2644\n",
      "2646\n",
      "2648\n",
      "2660\n",
      "2662\n",
      "2664\n",
      "2666\n",
      "2668\n",
      "2680\n",
      "2682\n",
      "2684\n",
      "2686\n",
      "2688\n",
      "2800\n",
      "2802\n",
      "2804\n",
      "2806\n",
      "2808\n",
      "2820\n",
      "2822\n",
      "2824\n",
      "2826\n",
      "2828\n",
      "2840\n",
      "2842\n",
      "2844\n",
      "2846\n",
      "2848\n",
      "2860\n",
      "2862\n",
      "2864\n",
      "2866\n",
      "2868\n",
      "2880\n",
      "2882\n",
      "2884\n",
      "2886\n",
      "2888\n"
     ]
    }
   ],
   "source": [
    "for i in range(100,3000):\n",
    "    count=0\n",
    "    i=str(i)\n",
    "    for ch in i:\n",
    "        ch=int(ch)\n",
    "        if ch%2==0:\n",
    "            count=count+1\n",
    "    if count==4:        \n",
    "        print(i)"
   ]
  },
  {
   "cell_type": "markdown",
   "id": "7350cade",
   "metadata": {},
   "source": [
    ":consider you have own restrurant :three item choices is there:\n",
    "1:pizza\n",
    "2:burger\n",
    "3:hotdog\n",
    "toppings available for pizza:paneer,musrooms and capicum\n",
    "filling avilable for burgur and hotdog is single layer cheeze and double layer cheese and side order menu is softdrinks\n",
    "\n",
    "### Q.17: wap to calculate tha cost of item which user ordered based on tha menu of restrurant"
   ]
  },
  {
   "cell_type": "code",
   "execution_count": 2,
   "id": "4f440d52",
   "metadata": {},
   "outputs": [
    {
     "name": "stdout",
     "output_type": "stream",
     "text": [
      "Welcome to hello pizza \n",
      "Please order Your Desired Items from Options Below: \n",
      "1. Pizza , price is : 200 \n",
      "2. Burger , price is : 150 \n",
      "3. Fries , price is : 100\n",
      "Press 1 For Pizza , 2 for Burgers And 3 For Fries: 1\n",
      "Which Toppings Would You Prefer: \n",
      "1. paneer , 60 rs\n",
      "2. mushroom, 40 rs \n",
      "3. capsicum, 35 rs \n",
      "Enter your Choice :1\n",
      "Paneer pizza will Cost You :\n",
      "260\n",
      "Would You Like to Add Soft Drinks Or Not Press 1 for Yes 2 For No : 1\n",
      "Soft Drinks Will be :\n",
      "85\n",
      "Final Price Will be :\n",
      "345\n"
     ]
    }
   ],
   "source": [
    "print(\"Welcome to hello pizza \")\n",
    "print(\"Please order Your Desired Items from Options Below: \")\n",
    "print(\"1. Pizza , price is : 200 \")\n",
    "print(\"2. Burger , price is : 150 \")\n",
    "print(\"3. Fries , price is : 100\")\n",
    "pizza = 1\n",
    "burgers = 2\n",
    "fries = 3\n",
    "choice = int(input(\"Press 1 For Pizza , 2 for Burgers And 3 For Fries: \"))\n",
    "price = 0\n",
    "if choice == 1:\n",
    "    print(\"Which Toppings Would You Prefer: \")\n",
    "    print(\"1. paneer , 60 rs\")\n",
    "    print(\"2. mushroom, 40 rs \")\n",
    "    print(\"3. capsicum, 35 rs \")\n",
    "    paneer = 1\n",
    "    mushrooms = 2\n",
    "    capsicum = 3\n",
    "    topping = int(input(\"Enter your Choice :\"))\n",
    "    if topping == 1:\n",
    "        print(\"Paneer pizza will Cost You :\")\n",
    "        price = 200 + 60\n",
    "        print(price)\n",
    "    elif topping == 2:\n",
    "        print(\"Mushroom Pizza Will Cost You :\")\n",
    "        price = 200 + 50\n",
    "        print(price)\n",
    "    elif topping == 3:\n",
    "        print(\"Capsicum Pizza Will Cost You :\")\n",
    "        price = 200 + 25\n",
    "        print(price)\n",
    "    else:\n",
    "        print(\"Invalid Choice\")\n",
    "elif choice == 2:\n",
    "    print(\"Would You Like to Add Some Extra Cheese : \")\n",
    "    yes = 1\n",
    "    no = 2\n",
    "    choice1 = int(input(\"Press 1 for Yes and 2 for No\"))\n",
    "    if choice1 == 1:\n",
    "        print(\"Which Choice Would You Prefer : \")\n",
    "        print(\"1. Single Layer Cheese\")\n",
    "        print(\"2. Double Layer Cheese\")\n",
    "        singlelayercheese = 1\n",
    "        doublelayercheese = 2\n",
    "        choice2 = int(input(\"Enter Your Choice : \"))\n",
    "        if choice2 == 1:\n",
    "            print(\"Single Layer Cheese Will Cost You: \")\n",
    "            price = 150 + 30\n",
    "            print(price)\n",
    "        elif choice2 == 2:\n",
    "            print(\"Double layer Cheese Will Cost You: \")\n",
    "            price = 150 + 60\n",
    "            print(price)\n",
    "        else:\n",
    "            print(\"Invalid Choice !!\")\n",
    "elif choice == 3:\n",
    "    print(\"Fries Will Cost You: \")\n",
    "    price = 100\n",
    "    print(price)\n",
    "else:\n",
    "    print(\"Enter Valid Choice !!\")\n",
    "choice3=int(input(\"Would You Like to Add Soft Drinks Or Not Press 1 for Yes 2 For No : \"))\n",
    "yes = 1\n",
    "no = 2\n",
    "if choice3 == 1:\n",
    "    print(\"Soft Drinks Will be :\")\n",
    "    print(85)\n",
    "    print(\"Final Price Will be :\")\n",
    "    price1 = (price + 85)\n",
    "    print(price1)\n",
    "elif choice3 ==2:\n",
    "    print(price)\n",
    "else:\n",
    "    print(\"Invalid Choice\")\n",
    " \n",
    "    \n",
    "    \n",
    "        \n",
    "\n",
    "    \n"
   ]
  },
  {
   "cell_type": "code",
   "execution_count": 3,
   "id": "bc762392",
   "metadata": {},
   "outputs": [
    {
     "name": "stdout",
     "output_type": "stream",
     "text": [
      "    *\n",
      "   ***\n",
      "  *****\n",
      " *******\n",
      "*********\n"
     ]
    }
   ],
   "source": [
    "r=5\n",
    "for x in range(r):\n",
    "        print(' '*(r-x-1)+'*'*(2*x+1))    "
   ]
  },
  {
   "cell_type": "code",
   "execution_count": null,
   "id": "8d78022f",
   "metadata": {},
   "outputs": [],
   "source": []
  }
 ],
 "metadata": {
  "kernelspec": {
   "display_name": "Python 3 (ipykernel)",
   "language": "python",
   "name": "python3"
  },
  "language_info": {
   "codemirror_mode": {
    "name": "ipython",
    "version": 3
   },
   "file_extension": ".py",
   "mimetype": "text/x-python",
   "name": "python",
   "nbconvert_exporter": "python",
   "pygments_lexer": "ipython3",
   "version": "3.9.12"
  }
 },
 "nbformat": 4,
 "nbformat_minor": 5
}
